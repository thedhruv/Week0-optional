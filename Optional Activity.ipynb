{
 "cells": [
  {
   "cell_type": "code",
   "execution_count": 13,
   "id": "f5b1e1aa",
   "metadata": {},
   "outputs": [],
   "source": [
    "import requests"
   ]
  },
  {
   "cell_type": "code",
   "execution_count": 14,
   "id": "0e34ff81",
   "metadata": {},
   "outputs": [],
   "source": [
    "import pandas as pd"
   ]
  },
  {
   "cell_type": "code",
   "execution_count": 15,
   "id": "5d1beb8d",
   "metadata": {},
   "outputs": [],
   "source": [
    "import json"
   ]
  },
  {
   "cell_type": "code",
   "execution_count": 16,
   "id": "894ec3de",
   "metadata": {},
   "outputs": [],
   "source": [
    "import numpy as np"
   ]
  },
  {
   "cell_type": "code",
   "execution_count": 17,
   "id": "9eb2aeb6",
   "metadata": {},
   "outputs": [],
   "source": [
    "from datetime import datetime"
   ]
  },
  {
   "cell_type": "code",
   "execution_count": 18,
   "id": "d65cddff",
   "metadata": {},
   "outputs": [],
   "source": [
    "Token='OoeEqCRdffLCMwPfNWBmviwlIOuwuVaw'"
   ]
  },
  {
   "cell_type": "code",
   "execution_count": 19,
   "id": "0888d684",
   "metadata": {},
   "outputs": [],
   "source": [
    "station_id='GHCND:USW00094728'"
   ]
  },
  {
   "cell_type": "code",
   "execution_count": null,
   "id": "da9719f9",
   "metadata": {
    "scrolled": false
   },
   "outputs": [],
   "source": [
    "data={}\n",
    "params=['TMAX','TMIN','PRCP']\n",
    "for i in range(1960,2021):\n",
    "    data[i]={}\n",
    "    for j in range(1,13):\n",
    "        data[i][j]={}\n",
    "        for param in params:\n",
    "            data[i][j][param]=[]\n",
    "for year in range(1960,2021):\n",
    "    print('year:'+ str(year))\n",
    "    for param in params:\n",
    "        r=requests.get('https://www.ncdc.noaa.gov/cdo-web/api/v2/data?datasetid=GHCND&limit=900&stationid=GHCND:USW00014734&datatypeid='+param+'&startdate='+str(year)+'-01-01&enddate='+str(year)+'-12-31', headers={'token':Token})\n",
    "        d_data= r.json()\n",
    "        \n",
    "        for entry in d_data['results']:\n",
    "            month =int(entry['date'][5:7])\n",
    "            data[year][month][param] += [entry['value']/10]\n",
    "\n",
    "    "
   ]
  },
  {
   "cell_type": "code",
   "execution_count": 22,
   "id": "406ed861",
   "metadata": {},
   "outputs": [],
   "source": [
    "def avg_list(l):\n",
    "    sum = 0\n",
    "    for ele in l:\n",
    "        sum += ele\n",
    "    return sum/len(l) if len(l)>0 else  \"NA\""
   ]
  },
  {
   "cell_type": "code",
   "execution_count": null,
   "id": "4ac18239",
   "metadata": {},
   "outputs": [],
   "source": [
    "data_mon={}\n",
    "for year in data:\n",
    "    data_mon[year]={}\n",
    "    for month in data[year]:\n",
    "        data_mon[year][month]={}\n",
    "        for param in params:\n",
    "            data_mon[year][month][param]=round(avg_list(data[year][month][param]),1)\n",
    "print(data_mon)"
   ]
  },
  {
   "cell_type": "code",
   "execution_count": null,
   "id": "f4512f2a",
   "metadata": {},
   "outputs": [],
   "source": [
    "data"
   ]
  },
  {
   "cell_type": "code",
   "execution_count": 25,
   "id": "dfaea9e6",
   "metadata": {},
   "outputs": [],
   "source": [
    "df=pd.DataFrame()"
   ]
  },
  {
   "cell_type": "code",
   "execution_count": 26,
   "id": "3c85aa52",
   "metadata": {},
   "outputs": [
    {
     "data": {
      "text/plain": [
       "{'year': [], 'month': [], 'TMAX': [], 'TMIN': [], 'PRCP': []}"
      ]
     },
     "execution_count": 26,
     "metadata": {},
     "output_type": "execute_result"
    }
   ],
   "source": [
    "headers=['year','month'] + params\n",
    "header_dict={}\n",
    "for header in headers:\n",
    "    header_dict[header]=[]\n",
    "header_dict"
   ]
  },
  {
   "cell_type": "code",
   "execution_count": 27,
   "id": "f6d66b68",
   "metadata": {},
   "outputs": [],
   "source": [
    "for year in data_mon:\n",
    "    for month in data_mon[year]:\n",
    "        header_dict['year'] += [year]\n",
    "        header_dict['month'] +=[month]\n",
    "        for param in data[year][month]:\n",
    "            header_dict[param] += [data_mon[year][month][param]]"
   ]
  },
  {
   "cell_type": "code",
   "execution_count": null,
   "id": "3db19ce1",
   "metadata": {},
   "outputs": [],
   "source": [
    "header_dict"
   ]
  },
  {
   "cell_type": "code",
   "execution_count": 29,
   "id": "c5d7edd3",
   "metadata": {},
   "outputs": [
    {
     "name": "stdout",
     "output_type": "stream",
     "text": [
      "year\n",
      "month\n",
      "TMAX\n",
      "TMIN\n",
      "PRCP\n"
     ]
    }
   ],
   "source": [
    "for header in headers:\n",
    "    print(header)\n",
    "    df[header]=header_dict[header]"
   ]
  },
  {
   "cell_type": "code",
   "execution_count": 30,
   "id": "b61d9801",
   "metadata": {},
   "outputs": [
    {
     "data": {
      "text/html": [
       "<div>\n",
       "<style scoped>\n",
       "    .dataframe tbody tr th:only-of-type {\n",
       "        vertical-align: middle;\n",
       "    }\n",
       "\n",
       "    .dataframe tbody tr th {\n",
       "        vertical-align: top;\n",
       "    }\n",
       "\n",
       "    .dataframe thead th {\n",
       "        text-align: right;\n",
       "    }\n",
       "</style>\n",
       "<table border=\"1\" class=\"dataframe\">\n",
       "  <thead>\n",
       "    <tr style=\"text-align: right;\">\n",
       "      <th></th>\n",
       "      <th>year</th>\n",
       "      <th>month</th>\n",
       "      <th>TMAX</th>\n",
       "      <th>TMIN</th>\n",
       "      <th>PRCP</th>\n",
       "    </tr>\n",
       "  </thead>\n",
       "  <tbody>\n",
       "    <tr>\n",
       "      <th>0</th>\n",
       "      <td>1960</td>\n",
       "      <td>1</td>\n",
       "      <td>4.6</td>\n",
       "      <td>-1.9</td>\n",
       "      <td>2.3</td>\n",
       "    </tr>\n",
       "    <tr>\n",
       "      <th>1</th>\n",
       "      <td>1960</td>\n",
       "      <td>2</td>\n",
       "      <td>6.4</td>\n",
       "      <td>-1.7</td>\n",
       "      <td>3.6</td>\n",
       "    </tr>\n",
       "    <tr>\n",
       "      <th>2</th>\n",
       "      <td>1960</td>\n",
       "      <td>3</td>\n",
       "      <td>5.4</td>\n",
       "      <td>-3.3</td>\n",
       "      <td>2.4</td>\n",
       "    </tr>\n",
       "    <tr>\n",
       "      <th>3</th>\n",
       "      <td>1960</td>\n",
       "      <td>4</td>\n",
       "      <td>18.4</td>\n",
       "      <td>6.9</td>\n",
       "      <td>2.6</td>\n",
       "    </tr>\n",
       "    <tr>\n",
       "      <th>4</th>\n",
       "      <td>1960</td>\n",
       "      <td>5</td>\n",
       "      <td>21.7</td>\n",
       "      <td>11.8</td>\n",
       "      <td>3.4</td>\n",
       "    </tr>\n",
       "    <tr>\n",
       "      <th>...</th>\n",
       "      <td>...</td>\n",
       "      <td>...</td>\n",
       "      <td>...</td>\n",
       "      <td>...</td>\n",
       "      <td>...</td>\n",
       "    </tr>\n",
       "    <tr>\n",
       "      <th>727</th>\n",
       "      <td>2020</td>\n",
       "      <td>8</td>\n",
       "      <td>30.0</td>\n",
       "      <td>20.8</td>\n",
       "      <td>2.6</td>\n",
       "    </tr>\n",
       "    <tr>\n",
       "      <th>728</th>\n",
       "      <td>2020</td>\n",
       "      <td>9</td>\n",
       "      <td>25.3</td>\n",
       "      <td>15.9</td>\n",
       "      <td>3.4</td>\n",
       "    </tr>\n",
       "    <tr>\n",
       "      <th>729</th>\n",
       "      <td>2020</td>\n",
       "      <td>10</td>\n",
       "      <td>18.8</td>\n",
       "      <td>10.2</td>\n",
       "      <td>3.7</td>\n",
       "    </tr>\n",
       "    <tr>\n",
       "      <th>730</th>\n",
       "      <td>2020</td>\n",
       "      <td>11</td>\n",
       "      <td>16.3</td>\n",
       "      <td>5.4</td>\n",
       "      <td>3.1</td>\n",
       "    </tr>\n",
       "    <tr>\n",
       "      <th>731</th>\n",
       "      <td>2020</td>\n",
       "      <td>12</td>\n",
       "      <td>7.4</td>\n",
       "      <td>-0.7</td>\n",
       "      <td>3.4</td>\n",
       "    </tr>\n",
       "  </tbody>\n",
       "</table>\n",
       "<p>732 rows × 5 columns</p>\n",
       "</div>"
      ],
      "text/plain": [
       "     year  month  TMAX  TMIN  PRCP\n",
       "0    1960      1   4.6  -1.9   2.3\n",
       "1    1960      2   6.4  -1.7   3.6\n",
       "2    1960      3   5.4  -3.3   2.4\n",
       "3    1960      4  18.4   6.9   2.6\n",
       "4    1960      5  21.7  11.8   3.4\n",
       "..    ...    ...   ...   ...   ...\n",
       "727  2020      8  30.0  20.8   2.6\n",
       "728  2020      9  25.3  15.9   3.4\n",
       "729  2020     10  18.8  10.2   3.7\n",
       "730  2020     11  16.3   5.4   3.1\n",
       "731  2020     12   7.4  -0.7   3.4\n",
       "\n",
       "[732 rows x 5 columns]"
      ]
     },
     "execution_count": 30,
     "metadata": {},
     "output_type": "execute_result"
    }
   ],
   "source": [
    "df"
   ]
  },
  {
   "cell_type": "code",
   "execution_count": 31,
   "id": "9b7e9065",
   "metadata": {},
   "outputs": [
    {
     "name": "stdout",
     "output_type": "stream",
     "text": [
      "DataFrame is written to Excel File successfully.\n"
     ]
    }
   ],
   "source": [
    "# determining the name of the file\n",
    "file_name = 'NewYork.xlsx'\n",
    "  \n",
    "# saving the excel\n",
    "df.to_excel(file_name)\n",
    "print('DataFrame is written to Excel File successfully.')"
   ]
  }
 ],
 "metadata": {
  "kernelspec": {
   "display_name": "Python 3 (ipykernel)",
   "language": "python",
   "name": "python3"
  },
  "language_info": {
   "codemirror_mode": {
    "name": "ipython",
    "version": 3
   },
   "file_extension": ".py",
   "mimetype": "text/x-python",
   "name": "python",
   "nbconvert_exporter": "python",
   "pygments_lexer": "ipython3",
   "version": "3.9.6"
  }
 },
 "nbformat": 4,
 "nbformat_minor": 5
}
